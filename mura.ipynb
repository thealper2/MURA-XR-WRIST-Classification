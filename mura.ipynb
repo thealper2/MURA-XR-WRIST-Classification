{
 "cells": [
  {
   "cell_type": "markdown",
   "id": "aa4660bf-4e36-4840-96a1-2c84fd8e7129",
   "metadata": {},
   "source": [
    "# Import Libraries"
   ]
  },
  {
   "cell_type": "code",
   "execution_count": null,
   "id": "ce9db049-85f2-4238-927b-f47cf7ee6b15",
   "metadata": {},
   "outputs": [],
   "source": [
    "import numpy as np\n",
    "import pandas as pd\n",
    "import matplotlib.pyplot as plt\n",
    "import seaborn as sns\n",
    "import tensorflow as tf\n",
    "import cv2\n",
    "import glob\n",
    "from tensorflow.keras.preprocessing.image import ImageDataGenerator\n",
    "from tensorflow.keras.applications import MobileNetV2\n",
    "from tensorflow.keras.layers import GlobalAveragePooling2D, Dense\n",
    "from tensorflow.keras.models import Model"
   ]
  },
  {
   "cell_type": "markdown",
   "id": "7c2ee2ca-10d3-4cd0-8d83-339d0ba3906e",
   "metadata": {},
   "source": [
    "# Load Data"
   ]
  },
  {
   "cell_type": "code",
   "execution_count": null,
   "id": "8b7dc074-1dcf-478f-81d8-524de8126dbd",
   "metadata": {},
   "outputs": [],
   "source": [
    "train_df = pd.read_csv(\"/media/alper/B00A1E730A1E36B6/Datasets/MURA-v1.1/train_image_paths.csv\", header=None, names=[\"image_path\"])\n",
    "train_df.head()"
   ]
  },
  {
   "cell_type": "code",
   "execution_count": null,
   "id": "240c1f15-b3a5-46ce-b080-3a9eaad5aa94",
   "metadata": {},
   "outputs": [],
   "source": [
    "train_df[\"label\"] = train_df[\"image_path\"].map(lambda x: \"positive\" if \"positive\" in x else \"negative\")\n",
    "train_df.head()"
   ]
  },
  {
   "cell_type": "code",
   "execution_count": null,
   "id": "fb9a12dc-9f83-4f3b-b03c-6dbdae112433",
   "metadata": {},
   "outputs": [],
   "source": [
    "train_df.label.value_counts()"
   ]
  },
  {
   "cell_type": "code",
   "execution_count": null,
   "id": "56008ae2-678e-4ef1-9334-5bcd2ad1f10b",
   "metadata": {},
   "outputs": [],
   "source": [
    "train_df[\"category\"] = train_df[\"image_path\"].apply(lambda x: x.split(\"/\")[2])\n",
    "train_df.head()"
   ]
  },
  {
   "cell_type": "code",
   "execution_count": null,
   "id": "2944f8fd-4893-4b2c-b915-e76daa4ee321",
   "metadata": {},
   "outputs": [],
   "source": [
    "train_df.category.value_counts()"
   ]
  },
  {
   "cell_type": "code",
   "execution_count": null,
   "id": "9e2b25c9-4e35-41dc-8748-70ee9aa36776",
   "metadata": {},
   "outputs": [],
   "source": [
    "train_df[\"patientId\"] = train_df[\"image_path\"].apply(lambda x: x.split(\"/\")[3].replace(\"patient\", \"\"))\n",
    "train_df.head()"
   ]
  },
  {
   "cell_type": "code",
   "execution_count": null,
   "id": "1db590cd-45a6-499f-9f41-24347afdcc56",
   "metadata": {},
   "outputs": [],
   "source": [
    "train_df.info()"
   ]
  },
  {
   "cell_type": "code",
   "execution_count": null,
   "id": "c646a18c-bc8a-495c-bb9b-2d3355b000d9",
   "metadata": {},
   "outputs": [],
   "source": [
    "train_df.shape"
   ]
  },
  {
   "cell_type": "code",
   "execution_count": null,
   "id": "89035a2a-eddb-4271-9b82-da7cdae64d1a",
   "metadata": {},
   "outputs": [],
   "source": [
    "train_df.isnull().sum()"
   ]
  },
  {
   "cell_type": "code",
   "execution_count": null,
   "id": "2d3463e4-941c-4cb9-931f-1963fb527f28",
   "metadata": {},
   "outputs": [],
   "source": [
    "valid_df = pd.read_csv(\"/media/alper/B00A1E730A1E36B6/Datasets/MURA-v1.1/valid_image_paths.csv\", header=None, names=[\"image_path\"])\n",
    "valid_df.head()"
   ]
  },
  {
   "cell_type": "code",
   "execution_count": null,
   "id": "b5708be4-35d0-493b-a35b-6e72eb5e75b3",
   "metadata": {},
   "outputs": [],
   "source": [
    "valid_df[\"label\"] = valid_df[\"image_path\"].map(lambda x: \"positive\" if \"positive\" in x else \"negative\")\n",
    "valid_df.head()"
   ]
  },
  {
   "cell_type": "code",
   "execution_count": null,
   "id": "a41e34f2-0a9d-4457-80f2-4940072f4606",
   "metadata": {},
   "outputs": [],
   "source": [
    "valid_df.label.value_counts()"
   ]
  },
  {
   "cell_type": "code",
   "execution_count": null,
   "id": "589ec04e-1b1d-48f9-a9d2-b5cf541b6104",
   "metadata": {},
   "outputs": [],
   "source": [
    "valid_df[\"category\"] = valid_df[\"image_path\"].apply(lambda x: x.split(\"/\")[2])\n",
    "valid_df.head()"
   ]
  },
  {
   "cell_type": "code",
   "execution_count": null,
   "id": "c309a0a5-6ce0-464f-aa7b-11e60c8b5b3d",
   "metadata": {},
   "outputs": [],
   "source": [
    "valid_df.category.value_counts()"
   ]
  },
  {
   "cell_type": "code",
   "execution_count": null,
   "id": "f4ece072-d2cc-4f49-a498-74793503f62b",
   "metadata": {},
   "outputs": [],
   "source": [
    "valid_df[\"patientId\"] = valid_df[\"image_path\"].apply(lambda x: x.split(\"/\")[3].replace(\"patient\", \"\"))\n",
    "valid_df.head()"
   ]
  },
  {
   "cell_type": "code",
   "execution_count": null,
   "id": "c1ac063d-523d-4790-bde4-20b192837b0f",
   "metadata": {},
   "outputs": [],
   "source": [
    "valid_df.shape"
   ]
  },
  {
   "cell_type": "code",
   "execution_count": null,
   "id": "fdd7023b-bb35-4a9f-90a4-1b1ecb63eb72",
   "metadata": {},
   "outputs": [],
   "source": [
    "valid_df.info()"
   ]
  },
  {
   "cell_type": "code",
   "execution_count": null,
   "id": "66df4995-89c8-4993-a94b-89b96faa4dad",
   "metadata": {},
   "outputs": [],
   "source": [
    "valid_df.isnull().sum()"
   ]
  },
  {
   "cell_type": "code",
   "execution_count": null,
   "id": "2242b36c-b64d-41d7-8a5a-73cb4036edb0",
   "metadata": {},
   "outputs": [],
   "source": [
    "train_df = train_df[train_df[\"category\"] == \"XR_WRIST\"]\n",
    "valid_df = valid_df[valid_df[\"category\"] == \"XR_WRIST\"]"
   ]
  },
  {
   "cell_type": "code",
   "execution_count": null,
   "id": "a39ed7fa-76a5-41fb-9940-3f4e99351551",
   "metadata": {},
   "outputs": [],
   "source": [
    "train_df.shape"
   ]
  },
  {
   "cell_type": "code",
   "execution_count": null,
   "id": "6ad63b83-b4eb-4994-b924-d4ecf6fd62c0",
   "metadata": {},
   "outputs": [],
   "source": [
    "valid_df.shape"
   ]
  },
  {
   "cell_type": "code",
   "execution_count": null,
   "id": "107ea363-8ed1-4e94-aa74-95181d3c8d1a",
   "metadata": {},
   "outputs": [],
   "source": [
    "wrist_pos = glob.glob(\"/media/alper/B00A1E730A1E36B6/Datasets/MURA-v1.1/train/XR_WRIST/patient00012/study1_negative/*\")\n",
    "wrist_neg = glob.glob(\"/media/alper/B00A1E730A1E36B6/Datasets/MURA-v1.1/train/XR_WRIST/patient00006/study1_positive/*\")"
   ]
  },
  {
   "cell_type": "code",
   "execution_count": null,
   "id": "9d36cfff-7996-4b95-bbbe-eca072c66455",
   "metadata": {},
   "outputs": [],
   "source": [
    "fig, ax = plt.subplots(1, 3, figsize=(15, 7))\n",
    "ax = ax.ravel()\n",
    "\n",
    "for i in range(0, 3):\n",
    "    ax[i].imshow(plt.imread(wrist_pos[i]), cmap=\"gray\")\n",
    "    ax[i].set_title(\"XR_WRIST POSITIVE\")"
   ]
  },
  {
   "cell_type": "code",
   "execution_count": null,
   "id": "0f30a16e-d736-4e51-ad87-4c87374859c7",
   "metadata": {},
   "outputs": [],
   "source": [
    "fig, ax = plt.subplots(1, 3, figsize=(15, 7))\n",
    "ax = ax.ravel()\n",
    "\n",
    "for i in range(0, 3):\n",
    "    ax[i].imshow(plt.imread(wrist_neg[i]), cmap=\"gray\")\n",
    "    ax[i].set_title(\"XR_WRIST NEGATIVE\")"
   ]
  },
  {
   "cell_type": "code",
   "execution_count": null,
   "id": "13a99979-5efa-449a-8f34-04a1271386dd",
   "metadata": {},
   "outputs": [],
   "source": [
    "train_data = ImageDataGenerator(\n",
    "    rescale=1./255,\n",
    "    horizontal_flip=True,\n",
    "    vertical_flip=True,\n",
    "    width_shift_range=0.2,\n",
    "    height_shift_range=0.2,\n",
    "    rotation_range=45,\n",
    "    fill_mode=\"nearest\"\n",
    ")\n",
    "\n",
    "valid_data = ImageDataGenerator(\n",
    "    rescale=1./255\n",
    ")"
   ]
  },
  {
   "cell_type": "code",
   "execution_count": null,
   "id": "6dfad30d-c7d5-4fa6-97c1-42cd396969f1",
   "metadata": {},
   "outputs": [],
   "source": [
    "train_gen = train_data.flow_from_dataframe(\n",
    "    dataframe=train_df,\n",
    "    directory=\"/media/alper/B00A1E730A1E36B6/Datasets/\",\n",
    "    x_col=\"image_path\",\n",
    "    y_col=\"label\",\n",
    "    batch_size=32,\n",
    "    shufle=True,\n",
    "    class_mode=\"categorical\",\n",
    "    target_size=(128, 128),\n",
    "    save_to_dir=\"train\",\n",
    "    save_format=\"png\",\n",
    "    color_mode=\"grayscale\"\n",
    ")\n",
    "\n",
    "valid_gen = valid_data.flow_from_dataframe(\n",
    "    dataframe=valid_df,\n",
    "    directory=\"/media/alper/B00A1E730A1E36B6/Datasets/\",\n",
    "    x_col=\"image_path\",\n",
    "    y_col=\"label\",\n",
    "    batch_size=32,\n",
    "    shufle=True,\n",
    "    class_mode=\"categorical\",\n",
    "    target_size=(128, 128),\n",
    "    save_to_dir=\"valid\",\n",
    "    save_format=\"png\",\n",
    "    color_mode=\"grayscale\"\n",
    ")"
   ]
  },
  {
   "cell_type": "markdown",
   "id": "6b125d92-dbfa-48b7-9e29-e00f5a2fc75a",
   "metadata": {},
   "source": [
    "# Model"
   ]
  },
  {
   "cell_type": "code",
   "execution_count": null,
   "id": "0494209d-9765-4f4c-80f0-8d259fc28c2b",
   "metadata": {},
   "outputs": [],
   "source": [
    "base_model = MobileNetV2(weights=None, include_top=False, input_shape=(128, 128, 1))\n",
    "\n",
    "for layer in base_model.layers:\n",
    "    layer.trainable = False"
   ]
  },
  {
   "cell_type": "code",
   "execution_count": null,
   "id": "fc4964de-f5b2-4314-be22-a8cc7f964bef",
   "metadata": {},
   "outputs": [],
   "source": [
    "x = base_model.output\n",
    "x = GlobalAveragePooling2D()(x)\n",
    "x = Dense(512, activation=\"relu\")(x)\n",
    "predictions = Dense(2, activation=\"softmax\")(x)\n",
    "\n",
    "model = Model(inputs=base_model.input, outputs=predictions)"
   ]
  },
  {
   "cell_type": "code",
   "execution_count": null,
   "id": "e2af1d8a-4765-4a9a-9b1b-2148b5780df4",
   "metadata": {},
   "outputs": [],
   "source": [
    "model.compile(optimizer=\"adam\", loss=\"binary_crossentropy\", metrics=[\"accuracy\"])"
   ]
  },
  {
   "cell_type": "code",
   "execution_count": null,
   "id": "80dfe1f9-faed-42cc-bd52-1b5e6b7f46dd",
   "metadata": {},
   "outputs": [],
   "source": [
    "history = model.fit(\n",
    "    train_gen, \n",
    "    steps_per_epoch=train_gen.samples // train_gen.batch_size, \n",
    "    epochs=10, \n",
    "    validation_data=valid_gen, \n",
    "    validation_steps=valid_gen.samples // valid_gen.batch_size,\n",
    ")"
   ]
  },
  {
   "cell_type": "code",
   "execution_count": null,
   "id": "275a2859-d84b-401b-9c40-9a64acbde5a5",
   "metadata": {},
   "outputs": [],
   "source": [
    "print(history.history)"
   ]
  },
  {
   "cell_type": "code",
   "execution_count": null,
   "id": "75552ed8-018c-4691-9760-eae1ee6bd150",
   "metadata": {},
   "outputs": [],
   "source": [
    "plt.figure()\n",
    "plt.title(\"Model Accuracy\")\n",
    "plt.plot(history.history[\"accuracy\"], label=\"train\")\n",
    "plt.plot(history.history[\"val_accuracy\"], label=\"valid\")\n",
    "plt.legend()\n",
    "plt.show()"
   ]
  },
  {
   "cell_type": "code",
   "execution_count": null,
   "id": "25f4b9e7-d2c6-402f-851b-7c22cc1ea040",
   "metadata": {},
   "outputs": [],
   "source": [
    "plt.figure()\n",
    "plt.title(\"Model Loss\")\n",
    "plt.plot(history.history[\"loss\"], label=\"train\")\n",
    "plt.plot(history.history[\"val_loss\"], label=\"valid\")\n",
    "plt.legend()\n",
    "plt.show()"
   ]
  },
  {
   "cell_type": "code",
   "execution_count": null,
   "id": "a46b48bd-795f-46fb-ac11-4b38d5dd50ad",
   "metadata": {},
   "outputs": [],
   "source": [
    "model.save(\"mura.h5\")"
   ]
  },
  {
   "cell_type": "code",
   "execution_count": null,
   "id": "36427ba1-83cc-4a97-a8e6-313c47b0c2a9",
   "metadata": {},
   "outputs": [],
   "source": []
  }
 ],
 "metadata": {
  "kernelspec": {
   "display_name": "Python 3 (ipykernel)",
   "language": "python",
   "name": "python3"
  },
  "language_info": {
   "codemirror_mode": {
    "name": "ipython",
    "version": 3
   },
   "file_extension": ".py",
   "mimetype": "text/x-python",
   "name": "python",
   "nbconvert_exporter": "python",
   "pygments_lexer": "ipython3",
   "version": "3.10.12"
  }
 },
 "nbformat": 4,
 "nbformat_minor": 5
}
